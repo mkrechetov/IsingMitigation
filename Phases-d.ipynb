{
 "cells": [
  {
   "cell_type": "markdown",
   "id": "e2a8b54e",
   "metadata": {},
   "source": [
    "In this notebook, we show the dependency between the proportion of mixed MAP states and the node degree $d$ in a random $d$-regular graph"
   ]
  },
  {
   "cell_type": "code",
   "execution_count": null,
   "id": "323a41cf",
   "metadata": {},
   "outputs": [],
   "source": [
    "import numpy as np\n",
    "import networkx as nx\n",
    "import matplotlib.pyplot as plt\n",
    "\n",
    "from opt import *\n",
    "\n",
    "def random_ferromagnet(G, seed=0):\n",
    "    np.random.seed(seed)\n",
    "\n",
    "    J = nx.linalg.graphmatrix.adjacency_matrix(G).todense()\n",
    "    H = np.random.rand(len(J), len(J))\n",
    "    J = np.multiply(J, (H + H.T) / 2)\n",
    "    mu = 10 * np.random.rand()\n",
    "    J *= mu\n",
    "    h = [-1 for _ in range(len(J))]\n",
    "\n",
    "    return J, h\n",
    "\n",
    "def get_portions(n, samples=500):\n",
    "    portions = []\n",
    "    for d in range(1, 10):\n",
    "        m_intermediate = 0.0\n",
    "        for s in range(samples):\n",
    "            G = nx.random_regular_graph(d, n, seed=s)\n",
    "            J, h = random_ferromagnet(G, seed=s)\n",
    "            I = np.random.choice(list(range(n)), 1)\n",
    "            result = gurobi_map_explicit(J, h, I)\n",
    "\n",
    "            if (sum(result) != n) and (sum(result) != 1):\n",
    "                m_intermediate += 1.0\n",
    "\n",
    "        portions.append(m_intermediate/samples)\n",
    "\n",
    "    return portions\n",
    "\n",
    "dlist = list(range(1, 10))\n",
    "s = 100\n",
    "portions = get_portions(10, samples=s)\n",
    "plt.plot(dlist, portions, 'g', label='N = 10')\n",
    "\n",
    "portions = get_portions(50, samples=s)\n",
    "plt.plot(dlist, portions, 'm', label='N = 50')\n",
    "\n",
    "portions = get_portions(150, samples=s)\n",
    "plt.plot(dlist, portions, 'b', label='N = 150')\n",
    "\n",
    "portions = get_portions(200, samples=s)\n",
    "plt.plot(dlist, portions, 'y', label='N = 200')\n",
    "\n",
    "portions = get_portions(300, samples=s)\n",
    "plt.plot(dlist, portions, 'r', label='N = 300')\n",
    "plt.legend()\n",
    "\n",
    "plt.xlabel('Node degree in a random d-regular graph.')\n",
    "plt.ylabel('Proportion of mixed MAP states')\n",
    "plt.savefig('density_d.png', dpi=300)"
   ]
  },
  {
   "cell_type": "code",
   "execution_count": null,
   "id": "9d5b7251",
   "metadata": {},
   "outputs": [],
   "source": []
  }
 ],
 "metadata": {
  "kernelspec": {
   "display_name": "Python 3",
   "language": "python",
   "name": "python3"
  },
  "language_info": {
   "codemirror_mode": {
    "name": "ipython",
    "version": 3
   },
   "file_extension": ".py",
   "mimetype": "text/x-python",
   "name": "python",
   "nbconvert_exporter": "python",
   "pygments_lexer": "ipython3",
   "version": "3.7.7"
  }
 },
 "nbformat": 4,
 "nbformat_minor": 5
}
