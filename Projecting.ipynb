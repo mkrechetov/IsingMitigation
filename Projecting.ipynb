{
 "cells": [
  {
   "cell_type": "code",
   "execution_count": 1,
   "id": "0f6d0508",
   "metadata": {},
   "outputs": [],
   "source": [
    "import time\n",
    "from itertools import combinations\n",
    "import numpy as np\n",
    "import cvxpy as cp\n",
    "from opt import *"
   ]
  },
  {
   "cell_type": "code",
   "execution_count": 2,
   "id": "59a15378",
   "metadata": {},
   "outputs": [],
   "source": [
    "def matrix_pattern(pattern):\n",
    "    n = len(pattern)\n",
    "    pattern = np.reshape(pattern, (1, len(pattern)))\n",
    "    X = (np.transpose(pattern) @ pattern) / 2\n",
    "    for i in range(n):\n",
    "         X[i, i] = pattern[0, i]\n",
    "    return X"
   ]
  },
  {
   "cell_type": "code",
   "execution_count": 3,
   "id": "959a9105",
   "metadata": {},
   "outputs": [],
   "source": [
    "def l1_project(J, h, secure=1, margin=0.0):\n",
    "    n = len(J)\n",
    "\n",
    "    K = cp.Variable((n, n), symmetric=True)\n",
    "    constraints = []\n",
    "    for i in range(n):\n",
    "        constraints += [K[i, i] == h[i]]\n",
    "        for j in range(n):\n",
    "            if i != j:\n",
    "                constraints += [K[i, j] <= J[i, j]]\n",
    "                constraints += [K[i, j] >= 0]\n",
    "\n",
    "    # add all patterns with single infection\n",
    "    cascade_pattern = np.ones(n)\n",
    "    X1 = matrix_pattern(cascade_pattern)\n",
    "\n",
    "    for k in range(1, secure+1):\n",
    "        combs = combinations(range(n), k)\n",
    "        for comb in combs:\n",
    "            pattern = -1*np.ones(n)\n",
    "            for el in comb:\n",
    "                pattern[el] = 1\n",
    "            X = matrix_pattern(pattern)\n",
    "            constraints += [cp.sum(cp.multiply(K, X)) >= cp.sum(cp.multiply(K, X1)) + margin]\n",
    "\n",
    "    # eliminate cascade case\n",
    "    healthy_pattern = -1*np.ones(n)\n",
    "    X0 = matrix_pattern(cascade_pattern)\n",
    "    constraints += [cp.sum(cp.multiply(K, X0)) >= cp.sum(cp.multiply(K, X1)) + margin]\n",
    "\n",
    "    # add projection objective\n",
    "    prob = cp.Problem(cp.Minimize(cp.sum(J-K) + cp.sum([h[i]-K[i, i] for i in range(len(J))])), constraints)\n",
    "    prob.solve(solver=cp.SCS, eps=1e-5)\n",
    "\n",
    "    new_J = K.value - np.diag(np.diag(K.value))\n",
    "    new_h = np.diag(K.value)\n",
    "    print(\"Optimal value: %s\" % prob.value)\n",
    "\n",
    "    return new_J, new_h"
   ]
  },
  {
   "cell_type": "markdown",
   "id": "53242727",
   "metadata": {},
   "source": [
    "Now we read Seattle data, initialize the Ising model of pandemic, infect node 0 and compute the MAP state. As we can see, all MAP values are +1."
   ]
  },
  {
   "cell_type": "code",
   "execution_count": 4,
   "id": "8ad24321",
   "metadata": {},
   "outputs": [
    {
     "name": "stdout",
     "output_type": "stream",
     "text": [
      "\n",
      "--------------------------------------------\n",
      "Warning: your license will expire in 3 days\n",
      "--------------------------------------------\n",
      "\n",
      "Academic license - for non-commercial use only - expires 2021-09-10\n",
      "Using license file /home/mk/gurobi.lic\n",
      "\n",
      "Statistics for model map :\n",
      "  Linear constraint matrix    : 1 Constrs, 20 Vars, 1 NZs\n",
      "  Variable types              : 0 Continuous, 20 Integer (20 Binary)\n",
      "  Matrix coefficient range    : [ 1, 1 ]\n",
      "  Objective coefficient range : [ 1.92095, 11.3637 ]\n",
      "  Variable bound range        : [ 1, 1 ]\n",
      "  RHS coefficient range       : [ 1, 1 ]\n",
      "Energy value:  22.44032204866379\n",
      "[1.0, 1.0, 1.0, 1.0, 1.0, 1.0, 1.0, 1.0, 1.0, 1.0, 1.0, 1.0, 1.0, 1.0, 1.0, 1.0, 1.0, 1.0, 1.0, 1.0]\n"
     ]
    }
   ],
   "source": [
    "N = np.genfromtxt('seattle_top20_travel_numbers.csv', delimiter=',')\n",
    "mu = 0.001\n",
    "h_max = -0.01\n",
    "J = N * np.log(1 / (1 - mu))\n",
    "h = h_max * np.ones(len(N))\n",
    "result0 = gurobi_map_explicit(J, h, [0])\n",
    "print(result0)"
   ]
  },
  {
   "cell_type": "code",
   "execution_count": 5,
   "id": "68cde884",
   "metadata": {},
   "outputs": [
    {
     "name": "stdout",
     "output_type": "stream",
     "text": [
      "Optimal value: 41.69331172435146\n",
      "Found projection in 1.493504285812378 sec.\n"
     ]
    },
    {
     "name": "stderr",
     "output_type": "stream",
     "text": [
      "/home/mk/.pyenv/versions/3.7.7/envs/opt/lib/python3.7/site-packages/cvxpy/problems/problem.py:1279: UserWarning: Solution may be inaccurate. Try another solver, adjusting the solver settings, or solve with verbose=True for more information.\n",
      "  \"Solution may be inaccurate. Try another solver, \"\n"
     ]
    }
   ],
   "source": [
    "# here we compute l1 projection onto the Safe Polytope\n",
    "start_time = time.time()\n",
    "projected_J, projected_h = l1_project(J, h, secure=1, margin=0.001)\n",
    "end_time = time.time()\n",
    "print('Found projection in {} sec.'.format(end_time-start_time))"
   ]
  },
  {
   "cell_type": "markdown",
   "id": "9fd73a1f",
   "metadata": {},
   "source": [
    "Now, infecting node 0 does not create any other infections:"
   ]
  },
  {
   "cell_type": "code",
   "execution_count": 6,
   "id": "2735b202",
   "metadata": {},
   "outputs": [
    {
     "name": "stdout",
     "output_type": "stream",
     "text": [
      "\n",
      "Statistics for model map :\n",
      "  Linear constraint matrix    : 1 Constrs, 20 Vars, 1 NZs\n",
      "  Variable types              : 0 Continuous, 20 Integer (20 Binary)\n",
      "  Matrix coefficient range    : [ 1, 1 ]\n",
      "  Objective coefficient range : [ 0.398685, 0.398688 ]\n",
      "  Variable bound range        : [ 1, 1 ]\n",
      "  RHS coefficient range       : [ 1, 1 ]\n",
      "Energy value:  1.694667487964156\n",
      "[1.0, 0.0, 0.0, 0.0, 0.0, 0.0, 0.0, 0.0, 0.0, 0.0, 0.0, 0.0, 0.0, 0.0, 0.0, 0.0, 0.0, 0.0, -0.0, 0.0]\n"
     ]
    }
   ],
   "source": [
    "result = gurobi_map_explicit(projected_J, projected_h, [0])\n",
    "print(result)"
   ]
  },
  {
   "cell_type": "markdown",
   "id": "b30fc80e",
   "metadata": {},
   "source": [
    "However, if two nodes are infected, then again all nodes are infected in MAP state:"
   ]
  },
  {
   "cell_type": "code",
   "execution_count": 7,
   "id": "efa6b78c",
   "metadata": {},
   "outputs": [
    {
     "name": "stdout",
     "output_type": "stream",
     "text": [
      "\n",
      "Statistics for model map :\n",
      "  Linear constraint matrix    : 2 Constrs, 20 Vars, 2 NZs\n",
      "  Variable types              : 0 Continuous, 20 Integer (20 Binary)\n",
      "  Matrix coefficient range    : [ 1, 1 ]\n",
      "  Objective coefficient range : [ 0.398685, 0.398688 ]\n",
      "  Variable bound range        : [ 1, 1 ]\n",
      "  RHS coefficient range       : [ 1, 1 ]\n",
      "Energy value:  1.6936661864880764\n",
      "[1.0, 1.0, 1.0, 1.0, 1.0, 1.0, 1.0, 1.0, 1.0, 1.0, 1.0, 1.0, 1.0, 1.0, 1.0, 1.0, 1.0, 1.0, 1.0, 1.0]\n"
     ]
    }
   ],
   "source": [
    "result = gurobi_map_explicit(projected_J, projected_h, [0, 1])\n",
    "print(result)"
   ]
  },
  {
   "cell_type": "code",
   "execution_count": 8,
   "id": "528bf369",
   "metadata": {},
   "outputs": [
    {
     "name": "stdout",
     "output_type": "stream",
     "text": [
      "Optimal value: 43.62073910350217\n",
      "Found projection in 3.0805139541625977 sec.\n"
     ]
    }
   ],
   "source": [
    "# here we compute l1 projection onto the Safe Polytope(2)\n",
    "start_time = time.time()\n",
    "projected_J, projected_h = l1_project(J, h, secure=2, margin=0.001)\n",
    "end_time = time.time()\n",
    "print('Found projection in {} sec.'.format(end_time-start_time))"
   ]
  },
  {
   "cell_type": "code",
   "execution_count": 9,
   "id": "9c16367a",
   "metadata": {},
   "outputs": [
    {
     "name": "stdout",
     "output_type": "stream",
     "text": [
      "\n",
      "Statistics for model map :\n",
      "  Linear constraint matrix    : 2 Constrs, 20 Vars, 2 NZs\n",
      "  Variable types              : 0 Continuous, 20 Integer (20 Binary)\n",
      "  Matrix coefficient range    : [ 1, 1 ]\n",
      "  Objective coefficient range : [ 0.195125, 0.210545 ]\n",
      "  Variable bound range        : [ 1, 1 ]\n",
      "  RHS coefficient range       : [ 1, 1 ]\n",
      "Energy value:  0.7309526900870025\n",
      "[1.0, 1.0, 0.0, 0.0, 0.0, 0.0, 0.0, 0.0, 0.0, 0.0, 0.0, 0.0, 0.0, 0.0, 0.0, 0.0, 0.0, 0.0, 0.0, -0.0]\n"
     ]
    }
   ],
   "source": [
    "result = gurobi_map_explicit(projected_J, projected_h, [0, 1])\n",
    "print(result)"
   ]
  },
  {
   "cell_type": "code",
   "execution_count": 10,
   "id": "5d2d1c25",
   "metadata": {},
   "outputs": [
    {
     "name": "stdout",
     "output_type": "stream",
     "text": [
      "Optimal value: 44.308961587876254\n",
      "Found projection in 11.08910083770752 sec.\n"
     ]
    }
   ],
   "source": [
    "# here we compute l1 projection onto the Safe Polytope(3)\n",
    "start_time = time.time()\n",
    "projected_J, projected_h = l1_project(J, h, secure=3, margin=0.001)\n",
    "end_time = time.time()\n",
    "print('Found projection in {} sec.'.format(end_time-start_time))"
   ]
  }
 ],
 "metadata": {
  "kernelspec": {
   "display_name": "Python 3",
   "language": "python",
   "name": "python3"
  },
  "language_info": {
   "codemirror_mode": {
    "name": "ipython",
    "version": 3
   },
   "file_extension": ".py",
   "mimetype": "text/x-python",
   "name": "python",
   "nbconvert_exporter": "python",
   "pygments_lexer": "ipython3",
   "version": "3.7.7"
  }
 },
 "nbformat": 4,
 "nbformat_minor": 5
}
