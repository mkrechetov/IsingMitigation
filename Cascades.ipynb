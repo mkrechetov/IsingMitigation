{
 "cells": [
  {
   "cell_type": "markdown",
   "id": "ed7d1096",
   "metadata": {},
   "source": [
    "In this notebook we run a cascade (SIR) model simulation and prepare animation"
   ]
  },
  {
   "cell_type": "code",
   "execution_count": 1,
   "id": "60cf9c8d",
   "metadata": {},
   "outputs": [],
   "source": [
    "import numpy as np\n",
    "import networkx as nx\n",
    "import matplotlib.pyplot as plt\n",
    "import matplotlib.animation as animation"
   ]
  },
  {
   "cell_type": "markdown",
   "id": "f8568b43",
   "metadata": {},
   "source": [
    "In the case of 3x3 grid we have speci"
   ]
  },
  {
   "cell_type": "code",
   "execution_count": 2,
   "id": "3995a1d9",
   "metadata": {},
   "outputs": [],
   "source": [
    "def ax_pattern(G, S, I, R, ax):\n",
    "    assert set(G.nodes) == set(S).union(set(I)).union(set(R))\n",
    "    #pos = nx.kamada_kawai_layout(G)\n",
    "    pos = {0:(0, 0),1:(0, 1),2:(0, 2),3:(1, 0),4:(1, 1),5:(1, 2),6:(2, 0),7:(2, 1),8:(2, 2)}\n",
    "    \n",
    "    nx.draw_networkx_nodes(G, pos, nodelist=S, node_color=\"blue\", ax=ax)\n",
    "    nx.draw_networkx_nodes(G, pos, nodelist=I, node_color=\"red\", ax=ax)\n",
    "    nx.draw_networkx_nodes(G, pos, nodelist=R, node_color=\"black\", ax=ax)\n",
    "    nx.draw_networkx_edges(G, pos, width=1.0, alpha=0.5)\n",
    "    labels = nx.get_edge_attributes(G, 'weight')\n",
    "    for k, v in labels.items():\n",
    "        labels[k] = round(v, 3)\n",
    "    nx.draw_networkx_edge_labels(G, pos, edge_labels=labels, font_size=18)"
   ]
  },
  {
   "cell_type": "code",
   "execution_count": 3,
   "id": "5020490e",
   "metadata": {},
   "outputs": [],
   "source": [
    "def cascade_step(J, S, I, R):\n",
    "    G = nx.from_numpy_matrix(np.matrix(J), create_using=nx.Graph)\n",
    "    new_S = S.copy()\n",
    "    new_I = []\n",
    "    new_R = list(set(R+I.copy()))\n",
    "\n",
    "    for infected in I:\n",
    "        for suscepted in G.neighbors(infected):\n",
    "            if suscepted in new_S:\n",
    "                p_ab = 1/(1+np.exp(-J[infected, suscepted]))\n",
    "                result = np.random.choice([0, 1], size=1, p=[1-p_ab, p_ab])\n",
    "                p_h = J[suscepted, suscepted]\n",
    "                heal = np.random.choice([0, 1], size=1, p=[1 - p_h, p_h])\n",
    "                if result and not heal:\n",
    "                    new_S.remove(suscepted)\n",
    "                    if suscepted not in new_I:\n",
    "                        new_I.append(suscepted)\n",
    "\n",
    "    return new_S, new_I, new_R"
   ]
  },
  {
   "cell_type": "code",
   "execution_count": 4,
   "id": "9fb182dd",
   "metadata": {},
   "outputs": [],
   "source": [
    "def cascade_gif(J, I):\n",
    "    G = nx.from_numpy_matrix(np.matrix(J), create_using=nx.Graph)\n",
    "    S = list(range(len(J)))\n",
    "    R = []\n",
    "\n",
    "    fig, ax = plt.subplots()\n",
    "\n",
    "    def animate(i, lst, ax):\n",
    "        G = lst[0]\n",
    "        S = lst[1]\n",
    "        I = lst[2]\n",
    "        R = lst[3]\n",
    "\n",
    "        if i == 0:\n",
    "            ax_pattern(G, S, I, R, ax)\n",
    "        elif len(I) == 0:\n",
    "            pass\n",
    "        else:\n",
    "            S, I, R = cascade_step(J, S, I, R)\n",
    "\n",
    "            lst[1] = S\n",
    "            lst[2] = I\n",
    "            lst[3] = R\n",
    "            ax_pattern(G, S, I, R, ax)\n",
    "\n",
    "    life_animation = animation.FuncAnimation(fig,\n",
    "                                             animate,\n",
    "                                             fargs=([G, S, I, R], ax),\n",
    "                                             save_count=len(J),\n",
    "                                             interval=1000,\n",
    "                                             repeat=False)\n",
    "\n",
    "    life_animation.save('cascade.gif',\n",
    "                        writer='imagemagick',\n",
    "                        fps=1,\n",
    "                        dpi=290)"
   ]
  },
  {
   "cell_type": "code",
   "execution_count": 5,
   "id": "2891337b",
   "metadata": {},
   "outputs": [
    {
     "data": {
      "image/png": "[encoded data removed]",
      "text/plain": [
       "<Figure size 432x288 with 1 Axes>"
      ]
     },
     "metadata": {},
     "output_type": "display_data"
    }
   ],
   "source": [
    "def random_ferromagnet(G, seed=None):\n",
    "    np.random.seed(seed)\n",
    "\n",
    "    J = nx.linalg.graphmatrix.adjacency_matrix(G).todense()\n",
    "    H = np.random.rand(len(J), len(J))\n",
    "\n",
    "    return np.multiply(J, (H + H.T) / 2)\n",
    "\n",
    "\n",
    "G = nx.generators.lattice.grid_2d_graph(3, 3)\n",
    "J = random_ferromagnet(G, seed=0)\n",
    "cascade_gif(J, [2])"
   ]
  },
  {
   "cell_type": "code",
   "execution_count": null,
   "id": "5cab8fb8",
   "metadata": {},
   "outputs": [],
   "source": []
  }
 ],
 "metadata": {
  "kernelspec": {
   "display_name": "Python 3",
   "language": "python",
   "name": "python3"
  },
  "language_info": {
   "codemirror_mode": {
    "name": "ipython",
    "version": 3
   },
   "file_extension": ".py",
   "mimetype": "text/x-python",
   "name": "python",
   "nbconvert_exporter": "python",
   "pygments_lexer": "ipython3",
   "version": "3.7.7"
  }
 },
 "nbformat": 4,
 "nbformat_minor": 5
}
