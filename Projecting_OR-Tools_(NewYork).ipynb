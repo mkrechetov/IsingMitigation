{
 "cells": [
  {
   "cell_type": "code",
   "execution_count": 1,
   "id": "d99b8ebc",
   "metadata": {},
   "outputs": [],
   "source": [
    "import time\n",
    "from itertools import combinations\n",
    "import numpy as np\n",
    "from ortools.sat.python import cp_model\n",
    "from ortools.linear_solver import pywraplp\n",
    "import networkx as nx\n",
    "import sys, os"
   ]
  },
  {
   "cell_type": "code",
   "execution_count": 2,
   "id": "d4412d27",
   "metadata": {},
   "outputs": [],
   "source": [
    "def matrix_pattern(pattern):\n",
    "    n = len(pattern)\n",
    "    pattern = np.reshape(pattern, (1, len(pattern)))\n",
    "    X = (np.transpose(pattern) @ pattern) / 2\n",
    "    for i in range(n):\n",
    "         X[i, i] = pattern[0, i]\n",
    "    return X\n",
    "\n",
    "def matmul(A, B):\n",
    "    assert len(A) == len(B)\n",
    "    n = len(A)\n",
    "    return sum([sum([A[i][j]*B[i][j] for j in range(n)]) for i in range(n)])\n",
    "\n",
    "def matminus(A, B):\n",
    "    assert len(A) == len(B)\n",
    "    n = len(A)\n",
    "    return [[A[i][j] - B[i][j] for j in range(n)] for i in range(n)]"
   ]
  },
  {
   "cell_type": "code",
   "execution_count": 3,
   "id": "43ef7348",
   "metadata": {},
   "outputs": [],
   "source": [
    "def ortools_map_lp(J, h, infected_nodes):\n",
    "    solver = pywraplp.Solver.CreateSolver('SCIP')\n",
    "    #solver.SetNumThreads(1082000)\n",
    "    \n",
    "    # prepare data\n",
    "    nodes = list(range(len(J)))\n",
    "    G = nx.from_numpy_matrix(J)\n",
    "    edges = list(G.edges())\n",
    "    not_infected_nodes = list(set(nodes).difference(set(infected_nodes)))\n",
    "    H = G.subgraph(not_infected_nodes)\n",
    "    not_infected_edges = list(H.edges())\n",
    "    \n",
    "    \n",
    "    node_beliefs = []\n",
    "    for node in nodes:\n",
    "        zero_belief = solver.NumVar(0, 1, 'zero_belief_of_node_{}'.format(node))\n",
    "        one_belief = solver.NumVar(0, 1, 'one_belief_of_node_{}'.format(node))\n",
    "        node_beliefs.append([zero_belief, one_belief])\n",
    "\n",
    "    edge_beliefs = []\n",
    "    for edge in edges:\n",
    "        zz_belief = solver.NumVar(0, 1, '00_belief_of_edge_{}'.format(edge))\n",
    "        oz_belief = solver.NumVar(0, 1, '01_belief_of_edge_{}'.format(edge))\n",
    "        zo_belief = solver.NumVar(0, 1, '10_belief_of_edge_{}'.format(edge))\n",
    "        oo_belief = solver.NumVar(0, 1, '11_belief_of_edge_{}'.format(edge))\n",
    "        edge_beliefs.append([[zz_belief, oz_belief], [zo_belief, oo_belief]])\n",
    "\n",
    "    objective = 0.0\n",
    "\n",
    "    # add infected nodes\n",
    "    for node in infected_nodes:\n",
    "        solver.Add(node_beliefs[node][0] == 0.0)\n",
    "        solver.Add(node_beliefs[node][1] == 1.0)\n",
    "\n",
    "    # add pairwise interactions\n",
    "    for i in range(len(edges)):\n",
    "        #i = edges.index(edge)\n",
    "        edge = edges[i]\n",
    "        a = edge[0]\n",
    "        b = edge[1]\n",
    "        objective += J[a, b] * edge_beliefs[i][1][1] / 2\n",
    "        objective += J[a, b] * edge_beliefs[i][0][0] / 2\n",
    "        objective -= J[a, b] * edge_beliefs[i][1][0] / 2 \n",
    "        objective -= J[a, b] * edge_beliefs[i][0][1] / 2\n",
    "        \n",
    "        #objective += J[a, b] * (2 * x[a] - 1) * (2 * x[b] - 1) / 2\n",
    "        \n",
    "    # Add field\n",
    "    for node in nodes:\n",
    "        objective += h[node] * (node_beliefs[node][1] - node_beliefs[node][0])\n",
    "\n",
    "    # normalization constraints\n",
    "    for node in not_infected_nodes:\n",
    "        solver.Add(node_beliefs[node][0] + node_beliefs[node][1] == 1)\n",
    "\n",
    "    # marginalization constraints\n",
    "    for edge in edges:\n",
    "        a = edge[0]\n",
    "        b = edge[1]\n",
    "        marginal_left_0 = edge_beliefs[edges.index(edge)][0][0] + \\\n",
    "                          edge_beliefs[edges.index(edge)][0][1]\n",
    "        solver.Add(marginal_left_0 == node_beliefs[a][0])\n",
    "\n",
    "        marginal_left_1 = edge_beliefs[edges.index(edge)][1][0] + \\\n",
    "                          edge_beliefs[edges.index(edge)][1][1]\n",
    "        solver.Add(marginal_left_1 == node_beliefs[a][1])\n",
    "\n",
    "        marginal_right_0 = edge_beliefs[edges.index(edge)][0][0] + \\\n",
    "                           edge_beliefs[edges.index(edge)][1][0]\n",
    "        solver.Add(marginal_right_0 == node_beliefs[b][0])\n",
    "\n",
    "        marginal_right_1 = edge_beliefs[edges.index(edge)][0][1] + \\\n",
    "                           edge_beliefs[edges.index(edge)][1][1]\n",
    "        solver.Add(marginal_right_1 == node_beliefs[b][1])\n",
    "\n",
    "    solver.Maximize(objective)\n",
    "    status = solver.Solve()\n",
    "    \n",
    "    if status == pywraplp.Solver.OPTIMAL:\n",
    "        node_beliefs_result = [[node_beliefs[node][0].solution_value(), node_beliefs[node][1].solution_value()] for node in range(len(nodes))]\n",
    "        return node_beliefs_result\n",
    "    else:\n",
    "        print('The problem does not have an optimal solution.')\n",
    "        return None\n"
   ]
  },
  {
   "cell_type": "code",
   "execution_count": 4,
   "id": "45dbd6d9",
   "metadata": {},
   "outputs": [],
   "source": [
    "def l1_project(J, h, secure=1, margin=0.0):\n",
    "    solver = pywraplp.Solver.CreateSolver('SCIP')\n",
    "    \n",
    "    n = len(J)\n",
    "    K = [[solver.NumVar(-1, solver.infinity(), 'K_{}{}'.format(i, j)) for i in range(n)] for j in range(n)]\n",
    "    \n",
    "    constraints = []\n",
    "    for i in range(n):\n",
    "        solver.Add(K[i][i] == h[i])\n",
    "        for j in range(n):\n",
    "            if i != j:\n",
    "                solver.Add(K[i][j] <= J[i, j])\n",
    "                solver.Add(K[i][j] >= 0)\n",
    "\n",
    "    # add all patterns with single infection\n",
    "    cascade_pattern = np.ones(n)\n",
    "    X1 = matrix_pattern(cascade_pattern)\n",
    "\n",
    "    for k in range(1, secure+1):\n",
    "        combs = combinations(range(n), k)\n",
    "        for comb in combs:\n",
    "            pattern = -1*np.ones(n)\n",
    "            for el in comb:\n",
    "                pattern[el] = 1\n",
    "            X = matrix_pattern(pattern)\n",
    "            solver.Add(matmul(K, X) >= matmul(K, X1) + margin)\n",
    "\n",
    "    # eliminate cascade case\n",
    "    healthy_pattern = -1*np.ones(n)\n",
    "    X0 = matrix_pattern(cascade_pattern)\n",
    "    constraints += [matmul(K, X0) >= matmul(K, X1) + margin]\n",
    "\n",
    "    # add projection objective\n",
    "    solver.Minimize(matmul(matminus(J, K), np.ones((n, n))))\n",
    "    status = solver.Solve()\n",
    "    \n",
    "    if status == pywraplp.Solver.OPTIMAL:\n",
    "        res_K = [[el.solution_value() for el in row] for row in K] \n",
    "        new_J = matminus(res_K, np.diag(np.diag(res_K)))\n",
    "        new_h = np.diag(res_K)\n",
    "        print(\"Optimal value: %s\" % solver.Objective().Value())\n",
    "        return new_J, new_h\n",
    "    else:\n",
    "        print('The problem does not have an optimal solution.')\n",
    "        return None"
   ]
  },
  {
   "cell_type": "code",
   "execution_count": 5,
   "id": "6eabd939",
   "metadata": {},
   "outputs": [
    {
     "name": "stdout",
     "output_type": "stream",
     "text": [
      "Solved MAP LP in 322.0834834575653 sec.\n",
      "[[0.0, 1.0], [0.0, 1.0], [0.0, 1.0], [0.0, 1.0], [0.0, 1.0], [0.0, 1.0], [0.0, 1.0], [0.0, 1.0], [0.0, 1.0], [0.0, 1.0], [0.0, 1.0], [0.0, 1.0], [0.0, 1.0], [0.0, 1.0], [0.0, 1.0], [0.0, 1.0], [0.0, 1.0], [0.0, 1.0], [0.0, 1.0], [0.0, 1.0], [0.0, 1.0], [0.0, 1.0], [0.0, 1.0], [0.0, 1.0], [0.0, 1.0], [0.0, 1.0], [0.0, 1.0], [0.0, 1.0], [0.0, 1.0], [0.0, 1.0], [0.0, 1.0], [0.0, 1.0], [0.0, 1.0], [0.0, 1.0], [0.0, 1.0], [0.0, 1.0], [0.0, 1.0], [0.0, 1.0], [0.0, 1.0], [0.0, 1.0], [0.0, 1.0], [0.0, 1.0], [0.0, 1.0], [0.0, 1.0], [0.0, 1.0], [0.0, 1.0], [0.0, 1.0], [0.0, 1.0], [0.0, 1.0], [0.0, 1.0], [0.0, 1.0], [0.0, 1.0], [0.0, 1.0], [0.0, 1.0], [0.0, 1.0], [0.0, 1.0], [0.0, 1.0], [0.0, 1.0], [0.0, 1.0], [0.0, 1.0], [0.0, 1.0], [0.0, 1.0], [0.0, 1.0], [0.0, 1.0], [0.0, 1.0], [0.0, 1.0], [0.0, 1.0], [0.0, 1.0], [0.0, 1.0], [0.0, 1.0], [0.0, 1.0], [0.0, 1.0], [0.0, 1.0], [0.0, 1.0], [0.0, 1.0], [0.0, 1.0], [0.0, 1.0], [0.0, 1.0], [0.0, 1.0], [0.0, 1.0], [0.0, 1.0], [0.0, 1.0], [0.0, 1.0], [0.0, 1.0], [0.0, 1.0], [0.0, 1.0], [0.0, 1.0], [0.0, 1.0], [0.0, 1.0], [0.0, 1.0], [0.0, 1.0], [0.0, 1.0], [0.0, 1.0], [0.0, 1.0], [0.0, 1.0], [0.0, 1.0], [0.0, 1.0], [0.0, 1.0], [0.0, 1.0], [0.0, 1.0], [0.0, 1.0], [0.0, 1.0], [0.0, 1.0], [0.0, 1.0], [0.0, 1.0], [0.0, 1.0], [0.0, 1.0], [0.0, 1.0], [0.0, 1.0], [0.0, 1.0], [0.0, 1.0], [0.0, 1.0], [0.0, 1.0], [0.0, 1.0], [0.0, 1.0], [0.0, 1.0], [0.0, 1.0], [0.0, 1.0], [0.0, 1.0], [0.0, 1.0], [0.0, 1.0], [0.0, 1.0], [0.0, 1.0], [0.0, 1.0], [0.0, 1.0], [0.0, 1.0], [0.0, 1.0], [0.0, 1.0], [0.0, 1.0], [0.0, 1.0], [0.0, 1.0], [0.0, 1.0], [0.0, 1.0], [0.0, 1.0], [0.0, 1.0], [0.0, 1.0], [0.0, 1.0], [0.0, 1.0], [0.0, 1.0], [0.0, 1.0], [0.0, 1.0], [0.0, 1.0], [0.0, 1.0], [0.0, 1.0], [0.0, 1.0], [0.0, 1.0], [0.0, 1.0], [0.0, 1.0], [0.0, 1.0], [0.0, 1.0], [0.0, 1.0], [0.0, 1.0], [0.0, 1.0], [0.0, 1.0], [0.0, 1.0], [0.0, 1.0], [0.0, 1.0], [0.0, 1.0], [0.0, 1.0], [0.0, 1.0], [0.0, 1.0], [0.0, 1.0], [0.0, 1.0], [0.0, 1.0], [0.0, 1.0], [0.0, 1.0], [0.0, 1.0], [0.0, 1.0], [0.0, 1.0], [0.0, 1.0], [0.0, 1.0], [0.0, 1.0], [0.0, 1.0], [0.0, 1.0], [0.0, 1.0], [0.0, 1.0], [0.0, 1.0], [0.0, 1.0], [0.0, 1.0], [0.0, 1.0], [0.0, 1.0], [0.0, 1.0], [0.0, 1.0], [0.0, 1.0], [0.0, 1.0], [0.0, 1.0], [0.0, 1.0], [0.0, 1.0], [0.0, 1.0], [0.0, 1.0], [0.0, 1.0], [0.0, 1.0], [0.0, 1.0], [0.0, 1.0], [0.0, 1.0], [0.0, 1.0], [0.0, 1.0], [0.0, 1.0], [0.0, 1.0], [0.0, 1.0], [0.0, 1.0], [0.0, 1.0], [0.0, 1.0], [0.0, 1.0], [0.0, 1.0], [0.0, 1.0], [0.0, 1.0], [0.0, 1.0], [0.0, 1.0], [0.0, 1.0], [0.0, 1.0], [0.0, 1.0], [0.0, 1.0], [0.0, 1.0], [0.0, 1.0], [0.0, 1.0], [0.0, 1.0], [0.0, 1.0], [0.0, 1.0], [0.0, 1.0], [0.0, 1.0], [0.0, 1.0], [0.0, 1.0], [0.0, 1.0], [0.0, 1.0], [0.0, 1.0], [0.0, 1.0], [0.0, 1.0], [0.0, 1.0], [0.0, 1.0], [0.0, 1.0], [0.0, 1.0], [0.0, 1.0], [0.0, 1.0], [0.0, 1.0], [0.0, 1.0], [0.0, 1.0], [0.0, 1.0], [0.0, 1.0], [0.0, 1.0], [0.0, 1.0], [0.0, 1.0], [0.0, 1.0], [0.0, 1.0], [0.0, 1.0], [0.0, 1.0], [0.0, 1.0], [0.0, 1.0], [0.0, 1.0], [0.0, 1.0], [0.0, 1.0], [0.0, 1.0], [0.0, 1.0], [0.0, 1.0], [0.0, 1.0], [0.0, 1.0], [0.0, 1.0], [0.0, 1.0], [0.0, 1.0], [0.0, 1.0], [0.0, 1.0], [0.0, 1.0], [0.0, 1.0], [0.0, 1.0], [0.0, 1.0], [0.0, 1.0], [0.0, 1.0], [0.0, 1.0], [0.0, 1.0], [0.0, 1.0], [0.0, 1.0], [0.0, 1.0], [0.0, 1.0], [0.0, 1.0], [0.0, 1.0], [0.0, 1.0], [0.0, 1.0], [0.0, 1.0], [0.0, 1.0], [0.0, 1.0], [0.0, 1.0], [0.0, 1.0], [0.0, 1.0], [0.0, 1.0], [0.0, 1.0], [0.0, 1.0], [0.0, 1.0], [0.0, 1.0], [0.0, 1.0], [0.0, 1.0], [0.0, 1.0], [0.0, 1.0], [0.0, 1.0], [0.0, 1.0], [0.0, 1.0], [0.0, 1.0], [0.0, 1.0], [0.0, 1.0], [0.0, 1.0], [0.0, 1.0]]\n"
     ]
    }
   ],
   "source": [
    "N = np.genfromtxt('newyork_travel_numbers.csv', delimiter=',')[:300, :300]\n",
    "mu = 0.0023\n",
    "h_max = -0.0001\n",
    "J = N * np.log(1 / (1 - mu))\n",
    "h = h_max * np.ones(len(N))\n",
    "start_time = time.time()\n",
    "result0 = ortools_map_lp(J, h, [0])\n",
    "end_time = time.time()\n",
    "print('Solved MAP LP in {} sec.'.format(end_time-start_time))\n",
    "print(result0)"
   ]
  },
  {
   "cell_type": "code",
   "execution_count": 6,
   "id": "139128a7",
   "metadata": {},
   "outputs": [
    {
     "name": "stdout",
     "output_type": "stream",
     "text": [
      "Optimal value: 3963.715690082605\n",
      "Found projection in 802.4475154876709 sec.\n"
     ]
    }
   ],
   "source": [
    "# here we compute l1 projection onto the Safe Polytope\n",
    "start_time = time.time()\n",
    "projected_J, projected_h = l1_project(J, h, secure=1, margin=0.0001)\n",
    "end_time = time.time()\n",
    "print('Found projection in {} sec.'.format(end_time-start_time))"
   ]
  },
  {
   "cell_type": "code",
   "execution_count": 7,
   "id": "0e23df5b",
   "metadata": {},
   "outputs": [
    {
     "name": "stdout",
     "output_type": "stream",
     "text": [
      "Solved MAP LP in 0.4059596061706543 sec.\n",
      "[[0.0, 1.0], [1.0, 0.0], [1.0, 0.0], [1.0, 0.0], [1.0, 0.0], [0.0, 1.0], [1.0, 0.0], [1.0, 0.0], [1.0, 0.0], [1.0, 0.0], [1.0, 0.0], [1.0, 0.0], [1.0, 0.0], [1.0, 0.0], [1.0, 0.0], [1.0, 0.0], [1.0, 0.0], [1.0, 0.0], [1.0, 0.0], [1.0, 0.0], [1.0, 0.0], [1.0, 0.0], [1.0, 0.0], [1.0, 0.0], [1.0, 0.0], [1.0, 0.0], [1.0, 0.0], [0.0, 1.0], [1.0, 0.0], [1.0, 0.0], [1.0, 0.0], [1.0, 0.0], [1.0, 0.0], [1.0, 0.0], [1.0, 0.0], [1.0, 0.0], [1.0, 0.0], [1.0, 0.0], [1.0, 0.0], [1.0, 0.0], [1.0, 0.0], [1.0, 0.0], [0.0, 1.0], [1.0, 0.0], [1.0, 0.0], [1.0, 0.0], [1.0, 0.0], [1.0, 0.0], [1.0, 0.0], [1.0, 0.0], [1.0, 0.0], [1.0, 0.0], [1.0, 0.0], [1.0, 0.0], [1.0, 0.0], [1.0, 0.0], [1.0, 0.0], [1.0, 0.0], [1.0, 0.0], [1.0, 0.0], [1.0, 0.0], [1.0, 0.0], [1.0, 0.0], [1.0, 0.0], [1.0, 0.0], [1.0, 0.0], [1.0, 0.0], [1.0, 0.0], [1.0, 0.0], [1.0, 0.0], [1.0, 0.0], [1.0, 0.0], [1.0, 0.0], [1.0, 0.0], [1.0, 0.0], [1.0, 0.0], [1.0, 0.0], [1.0, 0.0], [1.0, 0.0], [1.0, 0.0], [1.0, 0.0], [1.0, 0.0], [1.0, 0.0], [1.0, 0.0], [1.0, 0.0], [1.0, 0.0], [1.0, 0.0], [1.0, 0.0], [1.0, 0.0], [1.0, 0.0], [1.0, 0.0], [1.0, 0.0], [1.0, 0.0], [1.0, 0.0], [1.0, 0.0], [1.0, 0.0], [1.0, 0.0], [1.0, 0.0], [1.0, 0.0], [1.0, 0.0], [1.0, 0.0], [1.0, 0.0], [1.0, 0.0], [1.0, 0.0], [1.0, 0.0], [1.0, 0.0], [1.0, 0.0], [1.0, 0.0], [1.0, 0.0], [1.0, 0.0], [1.0, 0.0], [1.0, 0.0], [1.0, 0.0], [1.0, 0.0], [1.0, 0.0], [1.0, 0.0], [1.0, 0.0], [1.0, 0.0], [1.0, 0.0], [1.0, 0.0], [1.0, 0.0], [1.0, 0.0], [1.0, 0.0], [1.0, 0.0], [1.0, 0.0], [1.0, 0.0], [1.0, 0.0], [1.0, 0.0], [1.0, 0.0], [1.0, 0.0], [1.0, 0.0], [1.0, 0.0], [1.0, 0.0], [1.0, 0.0], [1.0, 0.0], [1.0, 0.0], [1.0, 0.0], [1.0, 0.0], [1.0, 0.0], [1.0, 0.0], [1.0, 0.0], [1.0, 0.0], [1.0, 0.0], [1.0, 0.0], [1.0, 0.0], [1.0, 0.0], [1.0, 0.0], [1.0, 0.0], [1.0, 0.0], [1.0, 0.0], [1.0, 0.0], [1.0, 0.0], [1.0, 0.0], [1.0, 0.0], [1.0, 0.0], [1.0, 0.0], [1.0, 0.0], [1.0, 0.0], [1.0, 0.0], [1.0, 0.0], [1.0, 0.0], [1.0, 0.0], [1.0, 0.0], [1.0, 0.0], [1.0, 0.0], [1.0, 0.0], [1.0, 0.0], [1.0, 0.0], [1.0, 0.0], [1.0, 0.0], [1.0, 0.0], [1.0, 0.0], [1.0, 0.0], [1.0, 0.0], [1.0, 0.0], [1.0, 0.0], [1.0, 0.0], [1.0, 0.0], [1.0, 0.0], [1.0, 0.0], [1.0, 0.0], [1.0, 0.0], [1.0, 0.0], [1.0, 0.0], [1.0, 0.0], [1.0, 0.0], [1.0, 0.0], [1.0, 0.0], [1.0, 0.0], [1.0, 0.0], [1.0, 0.0], [1.0, 0.0], [1.0, 0.0], [1.0, 0.0], [1.0, 0.0], [1.0, 0.0], [1.0, 0.0], [1.0, 0.0], [1.0, 0.0], [1.0, 0.0], [1.0, 0.0], [1.0, 0.0], [1.0, 0.0], [1.0, 0.0], [1.0, 0.0], [1.0, 0.0], [1.0, 0.0], [1.0, 0.0], [1.0, 0.0], [1.0, 0.0], [1.0, 0.0], [1.0, 0.0], [1.0, 0.0], [1.0, 0.0], [1.0, 0.0], [1.0, 0.0], [1.0, 0.0], [1.0, 0.0], [1.0, 0.0], [1.0, 0.0], [1.0, 0.0], [1.0, 0.0], [1.0, 0.0], [1.0, 0.0], [1.0, 0.0], [1.0, 0.0], [0.0, 1.0], [1.0, 0.0], [1.0, 0.0], [1.0, 0.0], [1.0, 0.0], [1.0, 0.0], [1.0, 0.0], [1.0, 0.0], [1.0, 0.0], [1.0, 0.0], [1.0, 0.0], [1.0, 0.0], [1.0, 0.0], [1.0, 0.0], [1.0, 0.0], [1.0, 0.0], [1.0, 0.0], [1.0, 0.0], [1.0, 0.0], [1.0, 0.0], [1.0, 0.0], [1.0, 0.0], [1.0, 0.0], [1.0, 0.0], [1.0, 0.0], [1.0, 0.0], [1.0, 0.0], [1.0, 0.0], [1.0, 0.0], [1.0, 0.0], [1.0, 0.0], [1.0, 0.0], [1.0, 0.0], [1.0, 0.0], [1.0, 0.0], [1.0, 0.0], [1.0, 0.0], [1.0, 0.0], [1.0, 0.0], [1.0, 0.0], [1.0, 0.0], [1.0, 0.0], [1.0, 0.0], [1.0, 0.0], [1.0, 0.0], [1.0, 0.0], [1.0, 0.0], [1.0, 0.0], [1.0, 0.0], [1.0, 0.0], [1.0, 0.0], [1.0, 0.0], [1.0, 0.0], [1.0, 0.0], [1.0, 0.0], [1.0, 0.0], [1.0, 0.0], [1.0, 0.0], [1.0, 0.0], [1.0, 0.0], [1.0, 0.0], [1.0, 0.0], [1.0, 0.0], [1.0, 0.0], [1.0, 0.0], [1.0, 0.0], [1.0, 0.0], [1.0, 0.0], [1.0, 0.0], [1.0, 0.0], [1.0, 0.0], [1.0, 0.0], [1.0, 0.0], [1.0, 0.0]]\n"
     ]
    }
   ],
   "source": [
    "start_time = time.time()\n",
    "result0 = ortools_map_lp(np.array(projected_J), np.array(projected_h), [0])\n",
    "end_time = time.time()\n",
    "print('Solved MAP LP in {} sec.'.format(end_time-start_time))\n",
    "print(result0)"
   ]
  },
  {
   "cell_type": "code",
   "execution_count": null,
   "id": "51f9e231",
   "metadata": {},
   "outputs": [],
   "source": []
  }
 ],
 "metadata": {
  "kernelspec": {
   "display_name": "Python 3",
   "language": "python",
   "name": "python3"
  },
  "language_info": {
   "codemirror_mode": {
    "name": "ipython",
    "version": 3
   },
   "file_extension": ".py",
   "mimetype": "text/x-python",
   "name": "python",
   "nbconvert_exporter": "python",
   "pygments_lexer": "ipython3",
   "version": "3.7.7"
  }
 },
 "nbformat": 4,
 "nbformat_minor": 5
}
